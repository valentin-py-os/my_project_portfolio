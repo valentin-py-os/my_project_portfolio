{
 "cells": [
  {
   "cell_type": "markdown",
   "metadata": {},
   "source": [
    "# U.S. Medical Insurance Costs"
   ]
  },
  {
   "cell_type": "code",
   "execution_count": 49,
   "metadata": {},
   "outputs": [],
   "source": [
    "import csv"
   ]
  },
  {
   "cell_type": "code",
   "execution_count": 50,
   "metadata": {},
   "outputs": [
    {
     "name": "stdout",
     "output_type": "stream",
     "text": [
      "   age     sex     bmi  children smoker     region      charges\n",
      "0   19  female  27.900         0    yes  southwest  16884.92400\n",
      "1   18    male  33.770         1     no  southeast   1725.55230\n",
      "2   28    male  33.000         3     no  southeast   4449.46200\n",
      "3   33    male  22.705         0     no  northwest  21984.47061\n",
      "4   32    male  28.880         0     no  northwest   3866.85520\n"
     ]
    }
   ],
   "source": [
    "import pandas as pd\n",
    "\n",
    "# Load the CSV file into a DataFrame\n",
    "df = pd.read_csv('insurance.csv')\n",
    "\n",
    "# Display the first few rows\n",
    "print(df.head())"
   ]
  },
  {
   "cell_type": "code",
   "execution_count": 51,
   "metadata": {},
   "outputs": [],
   "source": [
    "ages = []\n",
    "sexes = []\n",
    "bmis = []\n",
    "num_children = []\n",
    "smoker_statuses = []\n",
    "regions = []\n",
    "insurance_charges = []"
   ]
  },
  {
   "cell_type": "code",
   "execution_count": 52,
   "metadata": {},
   "outputs": [
    {
     "name": "stdout",
     "output_type": "stream",
     "text": [
      "   age     sex     bmi  children smoker     region      charges\n",
      "0   19  female  27.900         0    yes  southwest  16884.92400\n",
      "1   18    male  33.770         1     no  southeast   1725.55230\n",
      "2   28    male  33.000         3     no  southeast   4449.46200\n",
      "3   33    male  22.705         0     no  northwest  21984.47061\n",
      "4   32    male  28.880         0     no  northwest   3866.85520\n"
     ]
    }
   ],
   "source": [
    "# Extract columns as lists\n",
    "ages = df['age'].tolist()\n",
    "sexes = df['sex'].tolist()\n",
    "bmis = df['bmi'].tolist()\n",
    "num_children = df['children'].tolist()\n",
    "smokers = df['smoker'].tolist()\n",
    "regions = df['region'].tolist()\n",
    "charges = df['charges'].tolist()\n",
    "\n",
    "print(df.head())"
   ]
  },
  {
   "cell_type": "code",
   "execution_count": 53,
   "metadata": {},
   "outputs": [],
   "source": [
    "risk_categories = []\n",
    "\n",
    "# Iterate through the data\n",
    "for i in range(len(ages)):  \n",
    "    if smokers[i] == 'no' and bmis[i] < 25:\n",
    "        risk_categories.append('Low Risk')\n",
    "    elif (smokers[i] == 'no' and 25 <= bmis[i] <= 30) or (smokers[i] == 'yes' and bmis[i] < 25):\n",
    "        risk_categories.append('Medium Risk')\n",
    "    else:\n",
    "        risk_categories.append('High Risk')\n",
    "        \n",
    "insurance_data = {\n",
    "    \"age\": ages,\n",
    "    \"sex\": sexes,\n",
    "    \"bmi\": bmis,\n",
    "    \"children\": num_children,\n",
    "    \"smoker\": smokers,\n",
    "    \"region\": regions,\n",
    "    \"charges\": charges,\n",
    "    \"risk_category\": risk_categories\n",
    "}\n"
   ]
  },
  {
   "cell_type": "code",
   "execution_count": 54,
   "metadata": {},
   "outputs": [
    {
     "name": "stdout",
     "output_type": "stream",
     "text": [
      "   age     sex     bmi  children smoker     region      charges risk_category\n",
      "0   19  female  27.900         0    yes  southwest  16884.92400     High Risk\n",
      "1   18    male  33.770         1     no  southeast   1725.55230     High Risk\n",
      "2   28    male  33.000         3     no  southeast   4449.46200     High Risk\n",
      "3   33    male  22.705         0     no  northwest  21984.47061      Low Risk\n",
      "4   32    male  28.880         0     no  northwest   3866.85520   Medium Risk\n"
     ]
    }
   ],
   "source": [
    "df_new = pd.DataFrame(insurance_data)  # Create a DataFrame\n",
    "print(df_new.head())\n"
   ]
  },
  {
   "cell_type": "code",
   "execution_count": 55,
   "metadata": {},
   "outputs": [
    {
     "name": "stdout",
     "output_type": "stream",
     "text": [
      "1.09\n"
     ]
    }
   ],
   "source": [
    "# Calculate the average number of children\n",
    "avg_num_children = sum(num_children) / len(num_children)\n",
    "# Display the result\n",
    "print(round(avg_num_children, 2))"
   ]
  },
  {
   "cell_type": "code",
   "execution_count": 56,
   "metadata": {},
   "outputs": [
    {
     "name": "stdout",
     "output_type": "stream",
     "text": [
      "Average number of children in southeast: 1.05\n"
     ]
    }
   ],
   "source": [
    "region_filter = \"southeast\"\n",
    "total_children = 0\n",
    "count = regions.count(region_filter)  \n",
    "\n",
    "for i in range(len(regions)):\n",
    "    if regions[i] == region_filter:\n",
    "        total_children += num_children[i]\n",
    "        \n",
    "avg_southe_children = total_children/count if count > 0 else 0\n",
    "\n",
    "print(f\"Average number of children in {region_filter}: {avg_southe_children:.2f}\")\n"
   ]
  },
  {
   "cell_type": "markdown",
   "metadata": {},
   "source": [
    "df_new.to_csv(\"insurance_analysis.csv\", index=False)"
   ]
  }
 ],
 "metadata": {
  "kernelspec": {
   "display_name": "Python 3 (ipykernel)",
   "language": "python",
   "name": "python3"
  },
  "language_info": {
   "codemirror_mode": {
    "name": "ipython",
    "version": 3
   },
   "file_extension": ".py",
   "mimetype": "text/x-python",
   "name": "python",
   "nbconvert_exporter": "python",
   "pygments_lexer": "ipython3",
   "version": "3.13.1"
  }
 },
 "nbformat": 4,
 "nbformat_minor": 4
}
